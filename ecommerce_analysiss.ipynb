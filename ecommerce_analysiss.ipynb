{
 "cells": [
  {
   "cell_type": "markdown",
   "id": "8d073c9f",
   "metadata": {},
   "source": [
    "# 🛍️ E-commerce Data Analysis\n",
    "This project analyzes seasonal sales trends and cart abandonment in an e-commerce dataset using Python (Pandas, Matplotlib)."
   ]
  },
  {
   "cell_type": "code",
   "execution_count": null,
   "id": "2ce97a9a",
   "metadata": {},
   "outputs": [],
   "source": [
    "import pandas as pd\n",
    "import matplotlib.pyplot as plt"
   ]
  },
  {
   "cell_type": "code",
   "execution_count": null,
   "id": "f80fcf53",
   "metadata": {},
   "outputs": [],
   "source": [
    "# Load the dataset\n",
    "df = pd.read_csv('ecommerce_data_sample.csv')\n",
    "df.head()"
   ]
  },
  {
   "cell_type": "code",
   "execution_count": null,
   "id": "957a9190",
   "metadata": {},
   "outputs": [],
   "source": [
    "# Convert Order Date to datetime and calculate monthly sales\n",
    "df['Order Date'] = pd.to_datetime(df['Order Date'])\n",
    "df['Month'] = df['Order Date'].dt.to_period('M')\n",
    "monthly_sales = df.groupby('Month')['Sales'].sum()\n",
    "\n",
    "# Plot\n",
    "plt.figure(figsize=(10, 5))\n",
    "monthly_sales.plot(marker='o')\n",
    "plt.title('Monthly Sales Trend')\n",
    "plt.ylabel('Total Sales')\n",
    "plt.xlabel('Month')\n",
    "plt.grid(True)\n",
    "plt.tight_layout()\n",
    "plt.show()"
   ]
  },
  {
   "cell_type": "code",
   "execution_count": null,
   "id": "52538c79",
   "metadata": {},
   "outputs": [],
   "source": [
    "# Calculate cart abandonment rate\n",
    "abandon_rate = df['Cart Abandoned'].mean() * 100\n",
    "print(f'Cart Abandonment Rate: {abandon_rate:.2f}%')"
   ]
  },
  {
   "cell_type": "code",
   "execution_count": null,
   "id": "c6c07192",
   "metadata": {},
   "outputs": [],
   "source": [
    "# Sales by category\n",
    "category_sales = df.groupby('Category')['Sales'].sum().sort_values(ascending=False)\n",
    "category_sales.plot(kind='bar', title='Sales by Category', ylabel='Sales', xlabel='Category', figsize=(8,4))\n",
    "plt.tight_layout()\n",
    "plt.show()"
   ]
  }
 ],
 "metadata": {},
 "nbformat": 4,
 "nbformat_minor": 5
}
